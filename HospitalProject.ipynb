{
 "cells": [
  {
   "cell_type": "code",
   "execution_count": 2,
   "id": "c0bcc941",
   "metadata": {},
   "outputs": [],
   "source": [
    "import pymysql"
   ]
  },
  {
   "cell_type": "code",
   "execution_count": 3,
   "id": "e6e95b33",
   "metadata": {},
   "outputs": [],
   "source": [
    "mydb =pymysql.connect(\n",
    "host = 'localhost',\n",
    "    user = 'root',\n",
    "    password = 'omoware1'\n",
    ")\n",
    "mycursor = mydb.cursor()"
   ]
  },
  {
   "cell_type": "code",
   "execution_count": 4,
   "id": "15372ead",
   "metadata": {},
   "outputs": [
    {
     "name": "stdout",
     "output_type": "stream",
     "text": [
      "('earlycodeacademy',)\n",
      "('earlycodeschool',)\n",
      "('employees_system',)\n",
      "('information_schema',)\n",
      "('j_waec_system',)\n",
      "('mysql',)\n",
      "('performance_schema',)\n",
      "('Primeacademy',)\n",
      "('sys',)\n"
     ]
    }
   ],
   "source": [
    "mycursor.execute('show databases')\n",
    "for x in mycursor:\n",
    "    print(x)"
   ]
  },
  {
   "cell_type": "code",
   "execution_count": 5,
   "id": "fc972e77",
   "metadata": {},
   "outputs": [
    {
     "name": "stdout",
     "output_type": "stream",
     "text": [
      "('earlycodeacademy',)\n",
      "('earlycodeschool',)\n",
      "('employees_system',)\n",
      "('information_schema',)\n",
      "('j_waec_system',)\n",
      "('KelinaHospital',)\n",
      "('mysql',)\n",
      "('performance_schema',)\n",
      "('Primeacademy',)\n",
      "('sys',)\n"
     ]
    }
   ],
   "source": [
    "mycursor.execute('create database KelinaHospital')\n",
    "mycursor.execute('show databases')\n",
    "for x in mycursor:\n",
    "    print(x)"
   ]
  },
  {
   "cell_type": "code",
   "execution_count": 11,
   "id": "422d845c",
   "metadata": {},
   "outputs": [],
   "source": [
    "#PatientID, PatientName,Patient_Age,Patient_gender,patient_contact,Patient_address,DoctorID,DoctorName,Doctor_contact\n",
    "\n",
    "mydb =pymysql.connect(\n",
    "host = 'localhost',\n",
    "    port = 3306,\n",
    "    user = 'root',\n",
    "    password = 'omoware1',\n",
    "    database = 'KelinaHospital'\n",
    ")\n",
    "mycursor = mydb.cursor()"
   ]
  },
  {
   "cell_type": "code",
   "execution_count": 12,
   "id": "16dd18d3",
   "metadata": {},
   "outputs": [
    {
     "name": "stdout",
     "output_type": "stream",
     "text": [
      "('ID', 'int', 'NO', 'PRI', None, '')\n",
      "('PatientName', 'varchar(255)', 'NO', '', None, '')\n",
      "('Patient_Age', 'int', 'NO', '', None, '')\n",
      "('Patientgender', 'varchar(10)', 'NO', '', None, '')\n",
      "('patient_contact', 'varchar(11)', 'NO', '', None, '')\n",
      "('Patient_address', 'varchar(255)', 'NO', '', None, '')\n",
      "('DoctorName', 'varchar(255)', 'NO', '', None, '')\n",
      "('Doctor_contact', 'varchar(11)', 'NO', '', None, '')\n"
     ]
    }
   ],
   "source": [
    "mycursor.execute('create table Patients(ID int primary key not null,PatientName varchar(255) not null,Patient_Age int not null,Patientgender varchar(10) not null,patient_contact varchar(11) not null,Patient_address varchar(255) not null,DoctorName varchar(255) not null,Doctor_contact varchar(11) not null )')\n",
    "mycursor.execute('show columns from Patients')\n",
    "for x in mycursor:\n",
    "    print(x)"
   ]
  },
  {
   "cell_type": "code",
   "execution_count": 13,
   "id": "2c51aef9",
   "metadata": {},
   "outputs": [],
   "source": [
    "mydb =pymysql.connect(\n",
    "host = 'localhost',\n",
    "    port = 3306,\n",
    "    user = 'root',\n",
    "    password = 'omoware1',\n",
    "    database = 'KelinaHospital'\n",
    ")\n",
    "mycursor = mydb.cursor()"
   ]
  },
  {
   "cell_type": "code",
   "execution_count": 1,
   "id": "87ed35e1",
   "metadata": {},
   "outputs": [],
   "source": [
    "def acceptrecord ():\n",
    "    ID = int(input('Enter Patient ID: ')),\n",
    "    PatientName = input('Enter Patient Name: '),\n",
    "    Patient_Age = int(input('Enter Patient age: ')),\n",
    "    Patientgender = input('Enter Gender(Male/Female/other): '), \n",
    "    Patient_address = input('Enter Patient address: '),\n",
    "    DoctorName = input('Enter Doctor Name: '),\n",
    "    Doctor_contact = input('Enter Doctor phone number: ')\n",
    "    \n",
    "    \n",
    "    query = 'insert into Patient(ID,PatientName,Patient_Age,Patientgender,Patient_address,DoctorName,Doctor_contact) values(%s,%s,%s,%s,%s,%s,%s) '\n",
    "    \n",
    "    mycursor.execute(query,(ID,PatientName,Patient_Age,Patientgender,Patient_address,DoctorName,Doctor_contact))\n",
    "    mydb.commit()\n",
    "    print('Record inserted successfully...')\n",
    "    \n",
    "    \n",
    "    \n",
    "def search_record():\n",
    "    ID = int(input('Enter search ID: '))\n",
    "    query = 'select * from  Patient where ID = %s '\n",
    "    mycursor.execute(query,(ID,))\n",
    "    result = mycursor.fecthall()\n",
    "\n",
    "    if len(result) == 0:\n",
    "        print('Record not found')\n",
    "    else:\n",
    "        for x in result:\n",
    "            print(x)\n",
    "            \n",
    "def display_records():\n",
    "    mycursor.execute('select * from Patient')\n",
    "    for x in mycursor:\n",
    "        print(x)\n",
    "        \n",
    "        #updating.... ID, Column name and new value of column to update\n",
    "def updaterecord():\n",
    "    ID = int(input(\"Enter search ID: \"))\n",
    "    column = input('Enter the column to be updated:')\n",
    "    newval = input('Enter the new value')\n",
    "    \n",
    "    query = \"Update Patient set %s = %s where ID = %ID\"\n",
    "    \n",
    "    mycursor.execute(query,(column,newval,ID))\n",
    "    mydb.commit()\n",
    "    print('record update successful....')\n",
    "    \n",
    "def archiverecord():\n",
    "    ID = int(input(\"Enter ID to be deleted: \"))\n",
    "    query = 'delete from Patient where ID =%s'\n",
    "    mycursor.execute(query,(ID,))\n",
    "    mydb.commit()\n",
    "    print('record Archived suceessfully...')\n",
    "    "
   ]
  },
  {
   "cell_type": "code",
   "execution_count": null,
   "id": "f7c44e30",
   "metadata": {},
   "outputs": [],
   "source": []
  }
 ],
 "metadata": {
  "kernelspec": {
   "display_name": "Python 3 (ipykernel)",
   "language": "python",
   "name": "python3"
  },
  "language_info": {
   "codemirror_mode": {
    "name": "ipython",
    "version": 3
   },
   "file_extension": ".py",
   "mimetype": "text/x-python",
   "name": "python",
   "nbconvert_exporter": "python",
   "pygments_lexer": "ipython3",
   "version": "3.11.5"
  }
 },
 "nbformat": 4,
 "nbformat_minor": 5
}
